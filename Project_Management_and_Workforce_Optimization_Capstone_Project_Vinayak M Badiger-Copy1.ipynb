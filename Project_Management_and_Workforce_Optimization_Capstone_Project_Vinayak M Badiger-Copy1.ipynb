{
 "cells": [
  {
   "cell_type": "code",
   "execution_count": 103,
   "id": "41232fe9",
   "metadata": {},
   "outputs": [],
   "source": [
    "import pandas as pd\n",
    "\n",
    "# Employee DataFrame\n",
    "employee_data = {'ID': ['A001', 'A002', 'A003', 'A004', 'A005'],\n",
    "                 'Name': ['John Alter', 'Alice Luxumberg', 'Tom Sabestine', 'Nina Adgra', 'Amy Johny'],\n",
    "                 'Gender': ['M', 'F', 'M', 'F', 'F'],\n",
    "                 'City': ['Paris', 'London', 'Berlin', 'Newyork', 'Madrid'],\n",
    "                 'Age': [25, 27, 29, 31, 30]}\n",
    "#Creating DataFrame in employee_df\n",
    "employee_df = pd.DataFrame(employee_data)\n",
    "\n",
    "# Seniority Level DataFrame\n",
    "seniority_data = {'ID': ['A001', 'A002', 'A003', 'A004', 'A005'],\n",
    "                  'Designation Level': [2, 2, 3, 2, 3]}\n",
    "\n",
    "seniority_df = pd.DataFrame(seniority_data)\n",
    "\n",
    "# Project DataFrame\n",
    "project_data = {'ID': ['A001', 'A002', 'A003', 'A004', 'A005', 'A002', 'A005', 'A003', 'A001', 'A003', 'A001', 'A004', 'A004', 'A005'],\n",
    "                'Project': ['Project 1', 'Project 2', 'Project 3', 'Project 4', 'Project 5', 'Project 6', 'Project 7', 'Project 8', 'Project 9', 'Project 10', 'Project 11', 'Project 12', 'Project 13', 'Project 14'],\n",
    "                'Cost': [1002000, 2000000, 4500000, 5500000, None, 680000, 400000, 350000, None, 300000, 2000000, 1000000, 3000000, 200000],\n",
    "                'Status': ['Finished', 'Ongoing', 'Finished', 'Ongoing', 'Finished', 'Failed', 'Finished', 'Failed', 'Ongoing', 'Finished', 'Failed', 'Ongoing', 'Finished', 'Finished']}\n",
    "\n",
    "project_df = pd.DataFrame(project_data)\n",
    "\n",
    "# Save DataFrames to CSV files\n",
    "employee_df.to_csv('employee_data.csv', index=False)\n",
    "seniority_df.to_csv('seniority_data.csv', index=False)\n",
    "project_df.to_csv('project_data.csv', index=False)\n"
   ]
  },
  {
   "cell_type": "code",
   "execution_count": 104,
   "id": "2c283855",
   "metadata": {},
   "outputs": [],
   "source": [
    "import pandas as pd\n",
    "\n",
    "# Load the saved CSV files\n",
    "employee_df = pd.read_csv('employee_data.csv')\n",
    "seniority_df = pd.read_csv('seniority_data.csv')\n",
    "project_df = pd.read_csv('project_data.csv')\n",
    "\n",
    "# Compute running average for missing values in 'Cost' column\n",
    "running_sum = 0\n",
    "count = 0\n",
    "\n",
    "for index, row in project_df.iterrows():\n",
    "    if pd.isnull(row['Cost']):\n",
    "        # If the value is missing, replace it with the running average\n",
    "        if count > 0:\n",
    "            average = running_sum / count\n",
    "            project_df.at[index, 'Cost'] = average\n",
    "        else:\n",
    "            # If it's the first missing value, replace it with 0\n",
    "            project_df.at[index, 'Cost'] = 0\n",
    "    else:\n",
    "        # Update running sum and count for non-missing values\n",
    "        running_sum += row['Cost']\n",
    "        count += 1\n",
    "\n",
    "# Save the updated DataFrame to a new CSV file\n",
    "project_df.to_csv('project_data_updated.csv', index=False)\n"
   ]
  },
  {
   "cell_type": "code",
   "execution_count": 105,
   "id": "f5732d29",
   "metadata": {},
   "outputs": [],
   "source": [
    "import pandas as pd\n",
    "\n",
    "# Load the saved CSV file\n",
    "employee_df = pd.read_csv('employee_data.csv')\n",
    "\n",
    "# Split the 'Name' column into 'First Name' and 'Last Name'\n",
    "employee_df[['First Name', 'Last Name']] = employee_df['Name'].str.split(expand=True)\n",
    "\n",
    "# Drop the original 'Name' column\n",
    "employee_df = employee_df.drop('Name', axis=1)\n",
    "\n",
    "# Save the updated DataFrame to a new CSV file\n",
    "employee_df.to_csv('employee_data_updated.csv', index=False)\n"
   ]
  },
  {
   "cell_type": "code",
   "execution_count": 106,
   "id": "46261b56",
   "metadata": {},
   "outputs": [],
   "source": [
    "import pandas as pd\n",
    "\n",
    "# Load the saved CSV files\n",
    "employee_df = pd.read_csv('employee_data_updated.csv')\n",
    "seniority_df = pd.read_csv('seniority_data.csv')\n",
    "project_df = pd.read_csv('project_data_updated.csv')\n",
    "\n",
    "# Merge Employee and Seniority DataFrames on 'ID'\n",
    "merged_df = pd.merge(employee_df, seniority_df, on='ID', how='inner')\n",
    "\n",
    "# Merge the resulting DataFrame with Project DataFrame on 'ID'\n",
    "final_df = pd.merge(merged_df, project_df, on='ID', how='inner')\n",
    "\n",
    "# Save the final DataFrame to a new CSV file\n",
    "final_df.to_csv('final_data.csv', index=False)\n"
   ]
  },
  {
   "cell_type": "code",
   "execution_count": 107,
   "id": "8f3d2417",
   "metadata": {},
   "outputs": [],
   "source": [
    "import pandas as pd\n",
    "\n",
    "# Load the saved CSV file for the Final DataFrame\n",
    "final_df = pd.read_csv('final_data.csv')\n",
    "\n",
    "# Add a new 'Bonus' column and calculate the bonus based on project status\n",
    "final_df['Bonus'] = 0  # Initialize the 'Bonus' column with zeros\n",
    "\n",
    "# Apply a 5% bonus to employees who have finished projects\n",
    "final_df.loc[final_df['Status'] == 'Finished', 'Bonus'] = final_df.loc[final_df['Status'] == 'Finished', 'Cost'] * 0.05\n",
    "\n",
    "# Save the updated DataFrame to a new CSV file\n",
    "final_df.to_csv('final_data_with_bonus.csv', index=False)\n"
   ]
  },
  {
   "cell_type": "code",
   "execution_count": 108,
   "id": "bd0eaf3b",
   "metadata": {},
   "outputs": [],
   "source": [
    "import pandas as pd\n",
    "\n",
    "# Load the saved CSV file for the Final DataFrame with bonus\n",
    "final_df = pd.read_csv('final_data_with_bonus.csv')\n",
    "\n",
    "# Demote the designation level by 1 for employees with failed projects\n",
    "final_df.loc[final_df['Status'] == 'Failed', 'Designation Level'] -= 1\n",
    "\n",
    "# Delete records of employees with a designation level above 4\n",
    "final_df = final_df[final_df['Designation Level'] <= 4]\n",
    "\n",
    "# Save the updated DataFrame to a new CSV file\n",
    "final_df.to_csv('final_data_updated.csv', index=False)\n"
   ]
  },
  {
   "cell_type": "code",
   "execution_count": 109,
   "id": "af422b26",
   "metadata": {},
   "outputs": [],
   "source": [
    "import pandas as pd\n",
    "\n",
    "# Load the saved CSV file for the updated Final DataFrame\n",
    "final_df = pd.read_csv('final_data_updated.csv')\n",
    "\n",
    "# Add \"Mr.\" and \"Mrs.\" prefixes based on gender\n",
    "final_df['First Name'] = final_df.apply(lambda row: 'Mr. ' + row['First Name'] if row['Gender'] == 'M' else 'Mrs. ' + row['First Name'], axis=1)\n",
    "\n",
    "# Drop the 'Gender' column\n",
    "final_df = final_df.drop('Gender', axis=1)\n",
    "\n",
    "# Save the updated DataFrame to a new CSV file\n",
    "final_df.to_csv('final_data_updated_with_prefix.csv', index=False)\n"
   ]
  },
  {
   "cell_type": "code",
   "execution_count": 110,
   "id": "3fdbd17c",
   "metadata": {},
   "outputs": [],
   "source": [
    "import pandas as pd\n",
    "\n",
    "# Load the saved CSV file for the updated Final DataFrame with prefixes\n",
    "final_df = pd.read_csv('final_data_updated_with_prefix.csv')\n",
    "\n",
    "# Promote designation level by 1 for employees with age more than 29 years using if condition\n",
    "for index, row in final_df.iterrows():\n",
    "    if row['Age'] > 29:\n",
    "        final_df.at[index, 'Designation Level'] += 1\n",
    "\n",
    "# Save the updated DataFrame to a new CSV file\n",
    "final_df.to_csv('final_data_promoted.csv', index=False)"
   ]
  },
  {
   "cell_type": "code",
   "execution_count": 111,
   "id": "80e9b196",
   "metadata": {},
   "outputs": [],
   "source": [
    "import pandas as pd\n",
    "\n",
    "# Load the saved CSV file for the promoted Final DataFrame\n",
    "final_df = pd.read_csv('final_data_promoted.csv')\n",
    "\n",
    "# Group by 'ID' and 'First Name' and sum the 'Cost' for each employee\n",
    "total_proj_cost_df = final_df.groupby(['ID', 'First Name']).agg({'Cost': 'sum'}).reset_index()\n",
    "\n",
    "# Rename the 'Cost' column to 'Total Cost'\n",
    "total_proj_cost_df = total_proj_cost_df.rename(columns={'Cost': 'Total Cost'})\n",
    "\n",
    "# Save the new DataFrame to a new CSV file\n",
    "total_proj_cost_df.to_csv('total_proj_cost.csv', index=False)\n"
   ]
  },
  {
   "cell_type": "code",
   "execution_count": 112,
   "id": "c605641c",
   "metadata": {},
   "outputs": [
    {
     "name": "stdout",
     "output_type": "stream",
     "text": [
      "      ID     City  Age  First Name  Last Name  Designation Level     Project  \\\n",
      "3   A002   London   27  Mrs. Alice  Luxumberg                  2   Project 2   \n",
      "4   A002   London   27  Mrs. Alice  Luxumberg                  1   Project 6   \n",
      "8   A004  Newyork   31   Mrs. Nina      Adgra                  3   Project 4   \n",
      "9   A004  Newyork   31   Mrs. Nina      Adgra                  3  Project 12   \n",
      "10  A004  Newyork   31   Mrs. Nina      Adgra                  3  Project 13   \n",
      "\n",
      "         Cost    Status   Bonus  \n",
      "3   2000000.0   Ongoing       0  \n",
      "4    680000.0    Failed       0  \n",
      "8   5500000.0   Ongoing       0  \n",
      "9   1000000.0   Ongoing       0  \n",
      "10  3000000.0  Finished  150000  \n"
     ]
    }
   ],
   "source": [
    "import pandas as pd\n",
    "\n",
    "# Load the saved CSV file for the promoted Final DataFrame\n",
    "final_df = pd.read_csv('final_data_promoted.csv')\n",
    "\n",
    "# Filter employees whose city name contains the letter \"o\"\n",
    "filtered_df = final_df[final_df['City'].str.contains('o', case=False)]\n",
    "\n",
    "# Print the filtered DataFrame\n",
    "print(filtered_df)\n"
   ]
  },
  {
   "cell_type": "code",
   "execution_count": null,
   "id": "c7b963ba",
   "metadata": {},
   "outputs": [],
   "source": []
  },
  {
   "cell_type": "code",
   "execution_count": null,
   "id": "e170970c",
   "metadata": {},
   "outputs": [],
   "source": []
  },
  {
   "cell_type": "code",
   "execution_count": null,
   "id": "54fd8737",
   "metadata": {},
   "outputs": [],
   "source": []
  },
  {
   "cell_type": "code",
   "execution_count": null,
   "id": "64b4c5b0",
   "metadata": {},
   "outputs": [],
   "source": []
  },
  {
   "cell_type": "code",
   "execution_count": null,
   "id": "a2a0fd51",
   "metadata": {},
   "outputs": [],
   "source": []
  }
 ],
 "metadata": {
  "kernelspec": {
   "display_name": "Python 3 (ipykernel)",
   "language": "python",
   "name": "python3"
  },
  "language_info": {
   "codemirror_mode": {
    "name": "ipython",
    "version": 3
   },
   "file_extension": ".py",
   "mimetype": "text/x-python",
   "name": "python",
   "nbconvert_exporter": "python",
   "pygments_lexer": "ipython3",
   "version": "3.11.5"
  }
 },
 "nbformat": 4,
 "nbformat_minor": 5
}
